{
 "cells": [
  {
   "cell_type": "markdown",
   "metadata": {},
   "source": [
    "### Chain Using LangGraph\n",
    "In this section we will see how we can build a simple chain using Langgraph that uses 4 important concepts\n",
    "\n",
    "- How to use chat messages as our graph state\n",
    "- How to use chat models in graph nodes\n",
    "- How to bind tools to our LLM in chat models\n",
    "- How to execute the tools call in our graph nodes "
   ]
  },
  {
   "cell_type": "code",
   "execution_count": 49,
   "metadata": {},
   "outputs": [],
   "source": [
    "from dotenv import load_dotenv\n",
    "load_dotenv()\n",
    "\n",
    "import os\n",
    "os.environ[\"OPENAI_API_KEY\"]=os.getenv(\"OPENAI_API_KEY\")\n",
    "os.environ[\"GROQ_API_KEY\"]=os.getenv(\"GROQ_API_KEY\")\n"
   ]
  },
  {
   "cell_type": "markdown",
   "metadata": {},
   "source": [
    "#### How to use chat messages as our graph state\n",
    "##### Messages\n",
    "\n",
    "We can use messages which can be used to capture different roles within a conversation.\n",
    "LangChain has various message types including HumanMessage, AIMessage, SystemMessage and ToolMessage.\n",
    "These represent a message from the user, from chat model, for the chat model to instruct behavior, and from a tool call.\n",
    "\n",
    "Every message have these important components.\n",
    "\n",
    "- content - content of the message\n",
    "- name - Specify the name of author\n",
    "- response_metadata - optionally, a dict of metadata (e.g., often populated by model provider for AIMessages)\n",
    "\n"
   ]
  },
  {
   "cell_type": "code",
   "execution_count": 50,
   "metadata": {},
   "outputs": [
    {
     "name": "stdout",
     "output_type": "stream",
     "text": [
      "==================================\u001b[1m Ai Message \u001b[0m==================================\n",
      "Name: LLMModel\n",
      "\n",
      "Please tell me how can I help\n",
      "================================\u001b[1m Human Message \u001b[0m=================================\n",
      "Name: Niranjana\n",
      "\n",
      "I want to learn coding\n",
      "==================================\u001b[1m Ai Message \u001b[0m==================================\n",
      "Name: LLMModel\n",
      "\n",
      "Which programming language you want to learn\n",
      "================================\u001b[1m Human Message \u001b[0m=================================\n",
      "Name: Niranjana\n",
      "\n",
      "I want to learn python programming language\n"
     ]
    }
   ],
   "source": [
    "from langchain_core.messages import AIMessage,HumanMessage\n",
    "from pprint import pprint\n",
    "\n",
    "messages=[AIMessage(content=f\"Please tell me how can I help\",name=\"LLMModel\")]\n",
    "messages.append(HumanMessage(content=f\"I want to learn coding\",name=\"Niranjana\"))\n",
    "messages.append(AIMessage(content=f\"Which programming language you want to learn\",name=\"LLMModel\"))\n",
    "messages.append(HumanMessage(content=f\"I want to learn python programming language\",name=\"Niranjana\"))\n",
    "\n",
    "for message in messages:\n",
    "    message.pretty_print()\n",
    "\n"
   ]
  },
  {
   "cell_type": "markdown",
   "metadata": {},
   "source": [
    "### Chat Models\n",
    "\n",
    "We can use the sequence of message as input with the chatmodels using LLM's and OPENAI."
   ]
  },
  {
   "cell_type": "code",
   "execution_count": 52,
   "metadata": {},
   "outputs": [],
   "source": [
    "from langchain_groq import ChatGroq\n",
    "llm=ChatGroq(model=\"llama-3.1-8b-instant\")\n",
    "result=llm.invoke(messages)"
   ]
  },
  {
   "cell_type": "code",
   "execution_count": 53,
   "metadata": {},
   "outputs": [
    {
     "data": {
      "text/plain": [
       "AIMessage(content='Python is a great language to start with, especially for beginners. Here\\'s a step-by-step guide to help you get started with Python programming:\\n\\n**1. Install Python**:\\nDownload the latest version of Python from the official Python website (<https://www.python.org/downloads/>).\\n\\n**2. Choose a Text Editor or IDE**:\\nA text editor or IDE (Integrated Development Environment) is where you\\'ll write your Python code. Some popular choices include:\\n * PyCharm (free community edition)\\n * Visual Studio Code (free)\\n * Sublime Text (free trial, paid version)\\n * Atom (free)\\n\\n**3. Learn the Basics**:\\nStart with basic Python concepts such as:\\n * Variables\\n * Data types (strings, integers, floats, booleans)\\n * Operators\\n * Control structures (if-else, for loops)\\n * Functions\\n * Modules and packages\\n\\n**4. Practice, Practice, Practice**:\\nPractice writing Python code using online platforms, such as:\\n * Codecademy (interactive coding lessons)\\n * LeetCode (practice coding challenges)\\n * Project Euler (math-based coding challenges)\\n * Python.org (official tutorials and exercises)\\n\\n**5. Learn by Examples**:\\nRead and write code examples in various areas, such as:\\n * Data science and machine learning\\n * Web development\\n * Automation\\n * Scripting\\n\\n**6. Join Online Communities**:\\nConnect with other Python programmers through online forums, such as:\\n * Reddit (r/learnpython, r/Python)\\n * Stack Overflow (Q&A platform)\\n * Python subreddit (community discussions)\\n\\n**7. Take Online Courses**:\\nSupplement your learning with online courses, such as:\\n * Codecademy\\'s Python course\\n * Coursera\\'s Python course (University of Michigan)\\n * edX\\'s Python course (Microsoft)\\n\\n**8. Build Projects**:\\nApply your Python skills to real-world projects, such as:\\n * Command-line tools\\n * Games\\n * Chatbots\\n * Web scrapers\\n\\n**9. Read Books**:\\nDive deeper into Python concepts and best practices with books, such as:\\n * \"Python Crash Course\" by Eric Matthes\\n * \"Automate the Boring Stuff with Python\" by Al Sweigart\\n * \"Python for Data Analysis\" by Wes McKinney\\n\\n**10. Stay Up-to-Date**:\\nFollow Python-related news, blogs, and podcasts to stay informed about the latest developments and best practices.\\n\\nRemember, learning Python (or any programming language) takes time and practice. Be patient, persistent, and enjoy the journey!\\n\\nWhich area of Python programming would you like to focus on first?', additional_kwargs={}, response_metadata={'token_usage': {'completion_tokens': 533, 'prompt_tokens': 76, 'total_tokens': 609, 'completion_time': 0.70199732, 'prompt_time': 0.013292566, 'queue_time': 0.048739884, 'total_time': 0.715289886}, 'model_name': 'llama-3.1-8b-instant', 'system_fingerprint': 'fp_46fc01befd', 'service_tier': 'on_demand', 'finish_reason': 'stop', 'logprobs': None}, id='run--a7d7ec06-503e-4c3a-9f1f-d96267772d49-0', usage_metadata={'input_tokens': 76, 'output_tokens': 533, 'total_tokens': 609})"
      ]
     },
     "execution_count": 53,
     "metadata": {},
     "output_type": "execute_result"
    }
   ],
   "source": [
    "result"
   ]
  },
  {
   "cell_type": "code",
   "execution_count": 54,
   "metadata": {},
   "outputs": [
    {
     "data": {
      "text/plain": [
       "{'token_usage': {'completion_tokens': 533,\n",
       "  'prompt_tokens': 76,\n",
       "  'total_tokens': 609,\n",
       "  'completion_time': 0.70199732,\n",
       "  'prompt_time': 0.013292566,\n",
       "  'queue_time': 0.048739884,\n",
       "  'total_time': 0.715289886},\n",
       " 'model_name': 'llama-3.1-8b-instant',\n",
       " 'system_fingerprint': 'fp_46fc01befd',\n",
       " 'service_tier': 'on_demand',\n",
       " 'finish_reason': 'stop',\n",
       " 'logprobs': None}"
      ]
     },
     "execution_count": 54,
     "metadata": {},
     "output_type": "execute_result"
    }
   ],
   "source": [
    "result.response_metadata"
   ]
  },
  {
   "cell_type": "markdown",
   "metadata": {},
   "source": [
    "### Tools\n",
    "Tools can be integrated with the LLM models to interact with external systems. External systems can be API's, third party tools.\n",
    "\n",
    "Whenever a query is asked the model can choose to call the tool and this query is based on the \n",
    "natural language input and this will return an output that matches the tool's schema"
   ]
  },
  {
   "cell_type": "code",
   "execution_count": 39,
   "metadata": {},
   "outputs": [],
   "source": [
    "def add(a: int, b: int) -> int:\n",
    "    \"\"\"Add two numbers together. Only use this tool when the user explicitly asks for mathematical addition.\n",
    "    \n",
    "    Args:\n",
    "        a (int): first number to add\n",
    "        b (int): second number to add\n",
    "    \n",
    "    Returns:\n",
    "        int: the sum of a and b\n",
    "    \"\"\"\n",
    "    return a + b\n"
   ]
  },
  {
   "cell_type": "code",
   "execution_count": 6,
   "metadata": {},
   "outputs": [
    {
     "data": {
      "text/plain": [
       "ChatGroq(client=<groq.resources.chat.completions.Completions object at 0x10ee7bad0>, async_client=<groq.resources.chat.completions.AsyncCompletions object at 0x10f01fb90>, model_name='llama3-70b-8192', model_kwargs={}, groq_api_key=SecretStr('**********'))"
      ]
     },
     "execution_count": 6,
     "metadata": {},
     "output_type": "execute_result"
    }
   ],
   "source": [
    "llm"
   ]
  },
  {
   "cell_type": "code",
   "execution_count": null,
   "metadata": {},
   "outputs": [],
   "source": []
  },
  {
   "cell_type": "code",
   "execution_count": 55,
   "metadata": {},
   "outputs": [],
   "source": [
    "### Binding tool with llm\n",
    "\n",
    "llm_with_tools=llm.bind_tools([add])\n",
    "\n",
    "tool_call=llm_with_tools.invoke([HumanMessage(content=f\"What is 2 plus 2\",name=\"Nira\")])"
   ]
  },
  {
   "cell_type": "code",
   "execution_count": 41,
   "metadata": {},
   "outputs": [
    {
     "data": {
      "text/plain": [
       "[{'name': 'add',\n",
       "  'args': {'a': 2, 'b': 2},\n",
       "  'id': 'mk5fwb0ge',\n",
       "  'type': 'tool_call'}]"
      ]
     },
     "execution_count": 41,
     "metadata": {},
     "output_type": "execute_result"
    }
   ],
   "source": [
    "tool_call.tool_calls"
   ]
  },
  {
   "cell_type": "markdown",
   "metadata": {},
   "source": [
    "### Using messages as state"
   ]
  },
  {
   "cell_type": "code",
   "execution_count": 13,
   "metadata": {},
   "outputs": [],
   "source": [
    "from typing_extensions import TypedDict\n",
    "from langchain_core.messages import AnyMessage\n",
    "\n",
    "class State(TypedDict):\n",
    "    message:list[AnyMessage]"
   ]
  },
  {
   "cell_type": "markdown",
   "metadata": {},
   "source": [
    "#### Reducers\n",
    "Now, we have a minor problem!\n",
    "\n",
    "As we discussed, each node will return a new value for our state key messages.\n",
    "\n",
    "But, this new value will override the prior messages value.\n",
    "\n",
    "As our graph runs, we want to append messages to our messages state key.\n",
    "\n",
    "We can use reducer functions to address this.\n",
    "\n",
    "Reducers allow us to specify how state updates are performed.\n",
    "\n",
    "If no reducer function is specified, then it is assumed that updates to the key should override it as we saw before.\n",
    "\n",
    "But, to append messages, we can use the pre-built add_messages reducer.\n",
    "\n",
    "This ensures that any messages are appended to the existing list of messages.\n",
    "\n",
    "We simply need to annotate our messages key with the add_messages reducer function as metadata."
   ]
  },
  {
   "cell_type": "code",
   "execution_count": 14,
   "metadata": {},
   "outputs": [],
   "source": [
    "from langgraph.graph.message import add_messages\n",
    "from typing import Annotated\n",
    "class State(TypedDict):\n",
    "    messages:Annotated[list[AnyMessage],add_messages]"
   ]
  },
  {
   "cell_type": "markdown",
   "metadata": {},
   "source": [
    "### Reducers with add_messages"
   ]
  },
  {
   "cell_type": "code",
   "execution_count": 15,
   "metadata": {},
   "outputs": [
    {
     "data": {
      "text/plain": [
       "[AIMessage(content='Please tell me how can I help', additional_kwargs={}, response_metadata={}, name='LLMModel'),\n",
       " HumanMessage(content='I want to learn coding', additional_kwargs={}, response_metadata={}, name='Niranjana')]"
      ]
     },
     "execution_count": 15,
     "metadata": {},
     "output_type": "execute_result"
    }
   ],
   "source": [
    "initial_messages=[AIMessage(content=f\"Please tell me how can I help\",name=\"LLMModel\")]\n",
    "initial_messages.append(HumanMessage(content=f\"I want to learn coding\",name=\"Niranjana\"))\n",
    "initial_messages"
   ]
  },
  {
   "cell_type": "code",
   "execution_count": 16,
   "metadata": {},
   "outputs": [
    {
     "data": {
      "text/plain": [
       "AIMessage(content='Which programming language you want to learn', additional_kwargs={}, response_metadata={}, name='LLMModel')"
      ]
     },
     "execution_count": 16,
     "metadata": {},
     "output_type": "execute_result"
    }
   ],
   "source": [
    "ai_message=AIMessage(content=f\"Which programming language you want to learn\",name=\"LLMModel\")\n",
    "ai_message"
   ]
  },
  {
   "cell_type": "code",
   "execution_count": 17,
   "metadata": {},
   "outputs": [
    {
     "data": {
      "text/plain": [
       "[AIMessage(content='Please tell me how can I help', additional_kwargs={}, response_metadata={}, name='LLMModel', id='228c2fba-ed6a-4a2e-a83f-6d6afd246339'),\n",
       " HumanMessage(content='I want to learn coding', additional_kwargs={}, response_metadata={}, name='Niranjana', id='364dd912-2d36-4cf4-831b-fb31aadbf67a'),\n",
       " AIMessage(content='Which programming language you want to learn', additional_kwargs={}, response_metadata={}, name='LLMModel', id='6de767b8-1a1a-475a-8882-46febc1fba8f')]"
      ]
     },
     "execution_count": 17,
     "metadata": {},
     "output_type": "execute_result"
    }
   ],
   "source": [
    "### Reducers add_messages is to append instead of override\n",
    "add_messages(initial_messages,ai_message)"
   ]
  },
  {
   "cell_type": "code",
   "execution_count": 18,
   "metadata": {},
   "outputs": [],
   "source": [
    "## chatbot node functionality\n",
    "def llm_tool(state:State):\n",
    "    return {\"messages\":[llm_with_tools.invoke(state[\"messages\"])]}"
   ]
  },
  {
   "cell_type": "code",
   "execution_count": 61,
   "metadata": {},
   "outputs": [],
   "source": [
    "from langchain_core.messages import SystemMessage\n",
    "\n",
    "def llm_tool(state: State):\n",
    "    messages = state[\"messages\"]\n",
    "    \n",
    "    # Add system message if not present\n",
    "    if not any(isinstance(msg, SystemMessage) for msg in messages):\n",
    "        system_msg = SystemMessage(\n",
    "            content=\"You are a knowledgeable AI assistant. Use your built-in knowledge to answer questions about various topics. Only use the 'add' tool when the user specifically requests mathematical addition (like 'what is 2 plus 2', 'add 5 and 3', 'calculate 10 + 15'). For all other questions, provide helpful answers using your training knowledge.\"\n",
    "        )\n",
    "        messages = [system_msg] + messages\n",
    "    \n",
    "    return {\"messages\": [llm_with_tools.invoke(messages)]}\n"
   ]
  },
  {
   "cell_type": "code",
   "execution_count": 75,
   "metadata": {},
   "outputs": [
    {
     "data": {
      "image/png": "[encoded data removed]",
      "text/plain": [
       "<IPython.core.display.Image object>"
      ]
     },
     "metadata": {},
     "output_type": "display_data"
    }
   ],
   "source": [
    "from IPython.display import Image, display\n",
    "from langgraph.graph import StateGraph, START, END\n",
    "builder=StateGraph(State)\n",
    "\n",
    "builder.add_node(\"llm_tool\",llm_tool)\n",
    "\n",
    "builder.add_edge(START,\"llm_tool\")\n",
    "builder.add_edge(\"llm_tool\",END)\n",
    "\n",
    "graph=builder.compile()\n",
    "\n",
    "display(Image(graph.get_graph().draw_mermaid_png()))"
   ]
  },
  {
   "cell_type": "code",
   "execution_count": 76,
   "metadata": {},
   "outputs": [
    {
     "name": "stdout",
     "output_type": "stream",
     "text": [
      "================================\u001b[1m Human Message \u001b[0m=================================\n",
      "\n",
      "What is 2 plus 2\n",
      "==================================\u001b[1m Ai Message \u001b[0m==================================\n",
      "Tool Calls:\n",
      "  add (6wr3mye0t)\n",
      " Call ID: 6wr3mye0t\n",
      "  Args:\n",
      "    a: 2\n",
      "    b: 2\n"
     ]
    }
   ],
   "source": [
    "## invocation\n",
    "\n",
    "messages=graph.invoke({\"messages\":\"What is 2 plus 2\"})\n",
    "\n",
    "for message in messages[\"messages\"]:\n",
    "    message.pretty_print()"
   ]
  },
  {
   "cell_type": "code",
   "execution_count": 77,
   "metadata": {},
   "outputs": [],
   "source": [
    "tools=[add]"
   ]
  },
  {
   "cell_type": "code",
   "execution_count": 81,
   "metadata": {},
   "outputs": [
    {
     "data": {
      "image/png": "[encoded data removed]",
      "text/plain": [
       "<IPython.core.display.Image object>"
      ]
     },
     "metadata": {},
     "output_type": "display_data"
    }
   ],
   "source": [
    "from langgraph.prebuilt import ToolNode\n",
    "from langgraph.prebuilt import tools_condition\n",
    "\n",
    "\n",
    "builder=StateGraph(State)\n",
    "\n",
    "## Add nodes\n",
    "\n",
    "builder.add_node(\"llm_tool\",llm_tool)\n",
    "builder.add_node(\"tools\",ToolNode(tools))\n",
    "\n",
    "## Add Edge\n",
    "builder.add_edge(START,\"llm_tool\")\n",
    "builder.add_conditional_edges(\n",
    "    \"llm_tool\",\n",
    "    # If the latest message (result) from assistant is a tool call -> tools_condition routes to tools\n",
    "    # If the latest message (result) from assistant is a not a tool call -> tools_condition routes to END\n",
    "    tools_condition\n",
    ")\n",
    "builder.add_edge(\"tools\",END)\n",
    "\n",
    "\n",
    "graph_builder = builder.compile()\n",
    "\n",
    "display(Image(graph_builder.get_graph().draw_mermaid_png()))"
   ]
  },
  {
   "cell_type": "code",
   "execution_count": 82,
   "metadata": {},
   "outputs": [
    {
     "name": "stdout",
     "output_type": "stream",
     "text": [
      "================================\u001b[1m Human Message \u001b[0m=================================\n",
      "\n",
      "What is 2 plus 2\n",
      "==================================\u001b[1m Ai Message \u001b[0m==================================\n",
      "Tool Calls:\n",
      "  add (gbjsx332d)\n",
      " Call ID: gbjsx332d\n",
      "  Args:\n",
      "    a: 2\n",
      "    b: 2\n",
      "=================================\u001b[1m Tool Message \u001b[0m=================================\n",
      "Name: add\n",
      "\n",
      "4\n"
     ]
    }
   ],
   "source": [
    "## invocation\n",
    "\n",
    "messages=graph_builder.invoke({\"messages\":\"What is 2 plus 2\"})\n",
    "\n",
    "for message in messages[\"messages\"]:\n",
    "    message.pretty_print()"
   ]
  },
  {
   "cell_type": "code",
   "execution_count": 80,
   "metadata": {},
   "outputs": [
    {
     "name": "stdout",
     "output_type": "stream",
     "text": [
      "================================\u001b[1m Human Message \u001b[0m=================================\n",
      "\n",
      "What Machine Learning\n",
      "==================================\u001b[1m Ai Message \u001b[0m==================================\n",
      "\n",
      "Machine learning is a subset of artificial intelligence (AI) that involves the use of algorithms and statistical models to enable machines to learn from data, make decisions, and improve their performance on a task without being explicitly programmed.\n",
      "\n",
      "There are several key concepts in machine learning, including:\n",
      "\n",
      "1. **Supervised learning**: In this type of learning, the machine is trained on labeled data, where the correct output is provided for each input. The goal is to learn a mapping between inputs and outputs, so that the machine can make accurate predictions on new, unseen data.\n",
      "2. **Unsupervised learning**: In this type of learning, the machine is trained on unlabeled data, and the goal is to discover patterns or relationships in the data.\n",
      "3. **Reinforcement learning**: In this type of learning, the machine learns by interacting with an environment and receiving feedback in the form of rewards or penalties.\n",
      "4. **Deep learning**: This is a type of machine learning that uses neural networks with multiple layers to learn complex patterns in data.\n",
      "\n",
      "Some of the key applications of machine learning include:\n",
      "\n",
      "1. **Image recognition**: Machines can be trained to recognize objects, people, and scenes in images.\n",
      "2. **Natural language processing**: Machines can be trained to understand and generate human language.\n",
      "3. **Speech recognition**: Machines can be trained to recognize spoken words and phrases.\n",
      "4. **Predictive modeling**: Machines can be trained to predict continuous values, such as stock prices or weather forecasts.\n",
      "5. **Recommendation systems**: Machines can be trained to recommend products or services based on a user's preferences and behavior.\n",
      "\n",
      "Some of the key benefits of machine learning include:\n",
      "\n",
      "1. **Improved accuracy**: Machine learning algorithms can be more accurate than traditional algorithms in many cases.\n",
      "2. **Increased efficiency**: Machine learning algorithms can automate many tasks, freeing up human time and resources.\n",
      "3. **Scalability**: Machine learning algorithms can handle large amounts of data and scale to meet the needs of complex applications.\n",
      "4. **Flexibility**: Machine learning algorithms can be adapted to a wide range of tasks and domains.\n",
      "\n",
      "However, machine learning also has some challenges and limitations, including:\n",
      "\n",
      "1. **Data quality**: Machine learning algorithms require high-quality data to train and perform well.\n",
      "2. **Overfitting**: Machine learning algorithms can overfit to the training data, failing to generalize to new data.\n",
      "3. **Interpretability**: Machine learning algorithms can be difficult to interpret and understand, making it challenging to explain their decisions.\n",
      "4. **Bias and fairness**: Machine learning algorithms can perpetuate biases and unfairness if the training data is biased.\n",
      "\n",
      "Some of the key tools and technologies used in machine learning include:\n",
      "\n",
      "1. **Python libraries**: Libraries such as TensorFlow, Keras, and scikit-learn provide a wide range of tools and APIs for machine learning.\n",
      "2. **Deep learning frameworks**: Frameworks such as TensorFlow and PyTorch provide a wide range of tools and APIs for deep learning.\n",
      "3. **Cloud platforms**: Cloud platforms such as AWS, Google Cloud, and Azure provide a wide range of services and tools for machine learning.\n",
      "4. **Data storage and management**: Data storage and management systems such as Hadoop, Spark, and NoSQL databases provide a wide range of tools and APIs for data storage and management.\n",
      "\n",
      "Some of the key companies and organizations involved in machine learning include:\n",
      "\n",
      "1. **Google**: Google is a leader in machine learning, with a wide range of products and services that use machine learning, including Google Assistant, Google Photos, and Google Maps.\n",
      "2. **Amazon**: Amazon is a leader in machine learning, with a wide range of products and services that use machine learning, including Amazon Alexa, Amazon SageMaker, and Amazon Rekognition.\n",
      "3. **Microsoft**: Microsoft is a leader in machine learning, with a wide range of products and services that use machine learning, including Microsoft Azure Machine Learning, Microsoft Cognitive Services, and Microsoft Bot Framework.\n",
      "4. **Facebook**: Facebook is a leader in machine learning, with a wide range of products and services that use machine learning, including Facebook AI, Facebook Messenger, and Instagram.\n"
     ]
    }
   ],
   "source": [
    "messages=graph.invoke({\"messages\":\"What Machine Learning\"})\n",
    "\n",
    "for message in messages[\"messages\"]:\n",
    "    message.pretty_print()"
   ]
  },
  {
   "cell_type": "code",
   "execution_count": null,
   "metadata": {},
   "outputs": [],
   "source": []
  },
  {
   "cell_type": "code",
   "execution_count": null,
   "metadata": {},
   "outputs": [],
   "source": []
  }
 ],
 "metadata": {
  "kernelspec": {
   "display_name": ".venv",
   "language": "python",
   "name": "python3"
  },
  "language_info": {
   "codemirror_mode": {
    "name": "ipython",
    "version": 3
   },
   "file_extension": ".py",
   "mimetype": "text/x-python",
   "name": "python",
   "nbconvert_exporter": "python",
   "pygments_lexer": "ipython3",
   "version": "3.11.13"
  }
 },
 "nbformat": 4,
 "nbformat_minor": 2
}
